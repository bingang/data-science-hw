{
 "cells": [
  {
   "cell_type": "code",
   "execution_count": 26,
   "metadata": {},
   "outputs": [
    {
     "name": "stdout",
     "output_type": "stream",
     "text": [
      "https://www.twse.com.tw/exchangeReport/STOCK_DAY?response=csv&date=20190603&stockNo=2330\n",
      "\"108年06月 2330 台積電           各日成交資訊\"\r\n",
      "\"日期\",\"成交股數\",\"成交金額\",\"開盤價\",\"最高價\",\"最低價\",\"收盤價\",\"漲跌價差\",\"成交筆數\",\r\n",
      "\"108/06/03\",\"36,687,092\",\"8,651,389,851\",\"235.50\",\"238.50\",\"232.00\",\"238.00\",\"+2.50\",\"8,857\",\r\n",
      "\"108/06/04\",\"24,443,428\",\"5,745,045,809\",\"237.50\",\"238.00\",\"233.00\",\"233.00\",\"-5.00\",\"11,779\",\r\n",
      "\"108/06/05\",\"35,901,584\",\"8,461,930,934\",\"238.00\",\"238.00\",\"234.00\",\"235.00\",\"+2.00\",\"12,064\",\r\n",
      "\"108/06/06\",\"34,651,731\",\"8,008,768,323\",\"231.50\",\"232.00\",\"229.50\",\"232.00\",\"-3.00\",\"14,723\",\r\n",
      "\"108/06/10\",\"35,521,888\",\"8,442,986,620\",\"237.50\",\"240.00\",\"234.50\",\"240.00\",\"+8.00\",\"15,588\",\r\n",
      "\"108/06/11\",\"34,691,670\",\"8,448,805,962\",\"240.00\",\"246.00\",\"239.00\",\"244.50\",\"+4.50\",\"13,157\",\r\n",
      "\"108/06/12\",\"30,409,556\",\"7,469,805,086\",\"244.50\",\"247.50\",\"243.00\",\"246.00\",\"+1.50\",\"11,457\",\r\n",
      "\"108/06/13\",\"33,731,724\",\"8,136,137,708\",\"242.50\",\"244.00\",\"240.00\",\"240.00\",\"-6.00\",\"13,552\",\r\n",
      "\"108/06/14\",\"35,403,556\",\"8,396,819,832\",\"238.50\",\"239.50\",\"236.00\",\"236.00\",\"-4.00\",\"14,911\",\r\n",
      "\"108/06/17\",\"51,692,012\",\"12,043,369,475\",\"231.50\",\"235.00\",\"230.50\",\"233.00\",\"-3.00\",\"20,943\",\r\n",
      "\"108/06/18\",\"28,798,087\",\"6,758,454,612\",\"234.00\",\"235.50\",\"233.00\",\"235.50\",\"+2.50\",\"9,681\",\r\n",
      "\"108/06/19\",\"50,234,372\",\"12,181,979,568\",\"242.50\",\"244.00\",\"240.50\",\"244.00\",\"+8.50\",\"20,528\",\r\n",
      "\"108/06/20\",\"39,717,291\",\"9,697,726,719\",\"242.00\",\"245.50\",\"241.00\",\"245.00\",\"+1.00\",\"13,879\",\r\n",
      "\"108/06/21\",\"62,136,304\",\"15,398,139,830\",\"248.00\",\"248.50\",\"246.00\",\"248.50\",\"+3.50\",\"19,049\",\r\n",
      "\"108/06/24\",\"43,460,507\",\"10,476,936,660\",\"241.00\",\"242.00\",\"240.00\",\"241.00\",\"X0.00\",\"17,780\",\r\n",
      "\"108/06/25\",\"29,735,283\",\"7,118,002,390\",\"241.00\",\"241.50\",\"237.00\",\"238.50\",\"-2.50\",\"11,130\",\r\n",
      "\"108/06/26\",\"28,770,041\",\"6,757,991,717\",\"235.00\",\"236.50\",\"234.00\",\"234.50\",\"-4.00\",\"13,535\",\r\n",
      "\"108/06/27\",\"42,007,834\",\"10,063,332,494\",\"236.00\",\"241.50\",\"236.00\",\"240.50\",\"+6.00\",\"14,983\",\r\n",
      "\"108/06/28\",\"28,085,212\",\"6,715,488,371\",\"241.50\",\"241.50\",\"238.00\",\"239.00\",\"-1.50\",\"8,987\",\r\n",
      "\"說明:\"\r\n",
      "\"符號說明:+/-/X表示漲/跌/不比價\"\r\n",
      "\"當日統計資訊含一般、零股、盤後定價、鉅額交易，不含拍賣、標購。\"\r\n",
      "\"ETF證券代號第六碼為K、M、S、C者，表示該ETF以外幣交易。\"\r\n",
      "\r\n",
      "\n",
      "<class 'str'>\n"
     ]
    }
   ],
   "source": [
    "import requests \n",
    "\n",
    "date = \"20190603\"\n",
    "stock_url = \"https://www.twse.com.tw/exchangeReport/STOCK_DAY?response=csv&date=\" + date + \"&stockNo=2330\"\n",
    "print(stock_url)\n",
    "response = requests.get(stock_url)\n",
    "print(response.text)\n",
    "print(type(response.text))\n",
    "with open(date +\".csv\",'w') as f: \n",
    "    f.write(response.text) "
   ]
  },
  {
   "cell_type": "code",
   "execution_count": null,
   "metadata": {},
   "outputs": [],
   "source": []
  },
  {
   "cell_type": "code",
   "execution_count": null,
   "metadata": {},
   "outputs": [],
   "source": []
  },
  {
   "cell_type": "code",
   "execution_count": null,
   "metadata": {},
   "outputs": [],
   "source": []
  },
  {
   "cell_type": "code",
   "execution_count": null,
   "metadata": {},
   "outputs": [],
   "source": []
  },
  {
   "cell_type": "code",
   "execution_count": null,
   "metadata": {},
   "outputs": [],
   "source": []
  },
  {
   "cell_type": "code",
   "execution_count": null,
   "metadata": {},
   "outputs": [],
   "source": []
  },
  {
   "cell_type": "code",
   "execution_count": null,
   "metadata": {},
   "outputs": [],
   "source": []
  },
  {
   "cell_type": "code",
   "execution_count": null,
   "metadata": {},
   "outputs": [],
   "source": []
  },
  {
   "cell_type": "code",
   "execution_count": null,
   "metadata": {},
   "outputs": [],
   "source": []
  },
  {
   "cell_type": "code",
   "execution_count": null,
   "metadata": {},
   "outputs": [],
   "source": []
  },
  {
   "cell_type": "code",
   "execution_count": null,
   "metadata": {},
   "outputs": [],
   "source": []
  },
  {
   "cell_type": "code",
   "execution_count": null,
   "metadata": {},
   "outputs": [],
   "source": [
    "# imported the requests library \n",
    "import requests \n",
    "image_url = \"https://www.python.org/static/community_logos/python-logo-master-v3-TM.png\"\n",
    "\n",
    "# URL of the image to be downloaded is defined as image_url \n",
    "r = requests.get(image_url) # create HTTP response object \n",
    "\n",
    "# send a HTTP request to the server and save \n",
    "# the HTTP response in a response object called r \n",
    "with open(\"python_logo.png\",'wb') as f: \n",
    "\n",
    "\t# Saving received content as a png file in \n",
    "\t# binary format \n",
    "\n",
    "\t# write the contents of the response (r.content) \n",
    "\t# to a new file in binary mode. \n",
    "\tf.write(r.content) \n"
   ]
  },
  {
   "cell_type": "code",
   "execution_count": null,
   "metadata": {},
   "outputs": [],
   "source": []
  },
  {
   "cell_type": "code",
   "execution_count": 13,
   "metadata": {},
   "outputs": [
    {
     "name": "stdout",
     "output_type": "stream",
     "text": [
      "20190601\n",
      "20190602\n",
      "20190603\n",
      "20190604\n",
      "20190605\n",
      "20190606\n",
      "20190607\n",
      "20190608\n",
      "20190609\n",
      "20190610\n",
      "20190611\n",
      "20190612\n",
      "20190613\n",
      "20190614\n",
      "20190615\n",
      "20190616\n",
      "20190617\n",
      "20190618\n",
      "20190619\n",
      "20190620\n",
      "20190621\n",
      "20190622\n",
      "20190623\n",
      "20190624\n",
      "20190625\n",
      "20190626\n",
      "20190627\n",
      "20190628\n",
      "20190629\n",
      "20190630\n",
      "20190701\n",
      "20190702\n",
      "20190703\n",
      "20190704\n",
      "20190705\n",
      "20190706\n",
      "20190707\n",
      "20190708\n",
      "20190709\n",
      "20190710\n",
      "20190711\n",
      "20190712\n",
      "20190713\n",
      "20190714\n",
      "20190715\n",
      "20190716\n",
      "20190717\n",
      "20190718\n",
      "20190719\n",
      "20190720\n",
      "20190721\n",
      "20190722\n",
      "20190723\n",
      "20190724\n",
      "20190725\n",
      "20190726\n",
      "20190727\n",
      "20190728\n",
      "20190729\n",
      "20190730\n",
      "20190731\n",
      "20190801\n",
      "20190802\n",
      "20190803\n",
      "20190804\n",
      "20190805\n",
      "20190806\n",
      "20190807\n",
      "20190808\n",
      "20190809\n",
      "20190810\n",
      "20190811\n",
      "20190812\n",
      "20190813\n",
      "20190814\n",
      "20190815\n",
      "20190816\n",
      "20190817\n",
      "20190818\n",
      "20190819\n",
      "20190820\n",
      "20190821\n",
      "20190822\n",
      "20190823\n",
      "20190824\n",
      "20190825\n",
      "20190826\n",
      "20190827\n",
      "20190828\n",
      "20190829\n",
      "20190830\n",
      "20190831\n",
      "20190901\n",
      "20190902\n",
      "20190903\n",
      "20190904\n",
      "20190905\n",
      "20190906\n",
      "20190907\n",
      "20190908\n",
      "20190909\n",
      "20190910\n",
      "20190911\n",
      "20190912\n",
      "20190913\n",
      "20190914\n",
      "20190915\n",
      "20190916\n",
      "20190917\n",
      "20190918\n",
      "20190919\n",
      "20190920\n",
      "20190921\n",
      "20190922\n",
      "20190923\n",
      "20190924\n",
      "20190925\n",
      "20190926\n",
      "20190927\n",
      "20190928\n",
      "20190929\n",
      "20190930\n",
      "20191001\n",
      "20191002\n",
      "20191003\n",
      "20191004\n",
      "20191005\n",
      "20191006\n",
      "20191007\n",
      "20191008\n",
      "20191009\n"
     ]
    }
   ],
   "source": [
    "from datetime import timedelta, date\n",
    "\n",
    "def daterange(date1, date2):\n",
    "    for n in range(int ((date2 - date1).days)+1):\n",
    "        yield date1 + timedelta(n)\n",
    "\n",
    "start_dt = date(2019, 6, 1)\n",
    "end_dt = date(2019, 10, 9)\n",
    "for dt in daterange(start_dt, end_dt):\n",
    "    date = dt.strftime(\"%Y%m%d\")\n",
    "    print(date)"
   ]
  },
  {
   "cell_type": "code",
   "execution_count": null,
   "metadata": {},
   "outputs": [],
   "source": []
  },
  {
   "cell_type": "code",
   "execution_count": null,
   "metadata": {},
   "outputs": [],
   "source": []
  },
  {
   "cell_type": "code",
   "execution_count": null,
   "metadata": {},
   "outputs": [],
   "source": []
  },
  {
   "cell_type": "code",
   "execution_count": null,
   "metadata": {},
   "outputs": [],
   "source": []
  },
  {
   "cell_type": "code",
   "execution_count": null,
   "metadata": {},
   "outputs": [],
   "source": []
  },
  {
   "cell_type": "code",
   "execution_count": null,
   "metadata": {},
   "outputs": [],
   "source": []
  },
  {
   "cell_type": "code",
   "execution_count": null,
   "metadata": {},
   "outputs": [],
   "source": []
  },
  {
   "cell_type": "code",
   "execution_count": 6,
   "metadata": {},
   "outputs": [
    {
     "name": "stdout",
     "output_type": "stream",
     "text": [
      "2011-01-01\n"
     ]
    }
   ],
   "source": [
    "print(start_date)"
   ]
  },
  {
   "cell_type": "code",
   "execution_count": null,
   "metadata": {},
   "outputs": [],
   "source": []
  },
  {
   "cell_type": "code",
   "execution_count": null,
   "metadata": {},
   "outputs": [],
   "source": []
  },
  {
   "cell_type": "code",
   "execution_count": null,
   "metadata": {},
   "outputs": [],
   "source": []
  },
  {
   "cell_type": "code",
   "execution_count": null,
   "metadata": {},
   "outputs": [],
   "source": []
  }
 ],
 "metadata": {
  "kernelspec": {
   "display_name": "Python 3",
   "language": "python",
   "name": "python3"
  },
  "language_info": {
   "codemirror_mode": {
    "name": "ipython",
    "version": 3
   },
   "file_extension": ".py",
   "mimetype": "text/x-python",
   "name": "python",
   "nbconvert_exporter": "python",
   "pygments_lexer": "ipython3",
   "version": "3.7.4"
  }
 },
 "nbformat": 4,
 "nbformat_minor": 2
}
